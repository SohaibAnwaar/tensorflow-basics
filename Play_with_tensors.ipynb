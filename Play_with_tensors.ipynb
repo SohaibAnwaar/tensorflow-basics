{
 "cells": [
  {
   "cell_type": "markdown",
   "metadata": {},
   "source": [
    "# Tensors Basics\n",
    "Libraries used to run this notebook\n",
    "\n",
    "    1. Tensorflow==2.5 \n",
    "    2. Python==3.6\n",
    "\n",
    "\n",
    "## Introduction\n",
    "This notebook includes some basic functionality of tensors which really helps a data-scientist/machine-learning engineer to build a model. Special thing about this notebook is, it is made for begineers. Most of my fresh grad friends want to be a data-scientist/machine learning engineer, as I am also in learning phase so I decided to write down things, notes or things which helps me and my juniors to climb ladder of success. So lets gets started\n",
    "\n",
    "\n",
    "## Setup \n",
    "\n",
    "Follow setup.md file to setup your environment\n",
    "\n",
    "[Setup Readme](./setup.md)\n"
   ]
  },
  {
   "cell_type": "code",
   "execution_count": 1,
   "metadata": {},
   "outputs": [
    {
     "name": "stdout",
     "output_type": "stream",
     "text": [
      "2.5.0\n"
     ]
    }
   ],
   "source": [
    "\n",
    "# Getting tensorflow version\n",
    "import tensorflow as tf\n",
    "print(tf.__version__)"
   ]
  },
  {
   "cell_type": "markdown",
   "metadata": {},
   "source": [
    "# Some basic Confusions\n",
    "\n",
    "\n",
    "\n",
    "### 1. What are tensors?\n",
    "Tensors are just numerical representation of the information. \n",
    "\n",
    "e.g \n",
    "1. [[1,2,4,5],[2,3,4,5]]\n",
    "2. [[1,2,3,4,5]]\n",
    "3. [[2]]\n",
    "\n",
    "\n",
    "### 2. Difference between tensors and arrays\n",
    "An array is a grid of values that contains raw data and we use it to locate and interpret elements in the raw data. Whereas a tensor is a multidimensional array. Generally, we use NumPy for working with an array and TensorFlow for working with a tensor"
   ]
  },
  {
   "cell_type": "markdown",
   "metadata": {},
   "source": [
    "## Scalars and Vectors\n",
    "A scalar is an element of a field which is used to define a vector space. A quantity described by multiple scalars, such as having both direction and magnitude, is called a vector.[1]"
   ]
  },
  {
   "cell_type": "code",
   "execution_count": 2,
   "metadata": {},
   "outputs": [
    {
     "name": "stdout",
     "output_type": "stream",
     "text": [
      "tf.Tensor(3, shape=(), dtype=int32)\n",
      "tf.Tensor([3 2 3], shape=(3,), dtype=int32)\n"
     ]
    }
   ],
   "source": [
    "# Constant\n",
    "    # Create a constant tensor like object \n",
    "scalar = tf.constant(3)\n",
    "print(scalar)\n",
    "\n",
    "vector = tf.constant([3,2,3])\n",
    "print(vector)"
   ]
  },
  {
   "cell_type": "markdown",
   "metadata": {},
   "source": [
    "## Matrix\n",
    "In mathematics, a matrix (plural matrices) is a rectangular array or table of numbers, symbols, or expressions, arranged in rows and columns.[1][2] For example, the dimension of the matrix below is 2 × 3 (read \"two by three\"), because there are two rows and three columns:\n",
    "\n",
    "1. Matrix 1\n",
    "\n",
    "\\begin{bmatrix}1&9&-13\\\\20&5&-6\\end{bmatrix}\n",
    "\n",
    "2. Matrix 2\n",
    "\n",
    "\\begin{bmatrix}1&9&-13\\\\20&5&-6\\end{bmatrix}\n",
    "\n"
   ]
  },
  {
   "cell_type": "code",
   "execution_count": 3,
   "metadata": {},
   "outputs": [
    {
     "name": "stdout",
     "output_type": "stream",
     "text": [
      "tf.Tensor(\n",
      "[[3 2]\n",
      " [1 3]\n",
      " [2 4]], shape=(3, 2), dtype=int32)\n"
     ]
    }
   ],
   "source": [
    "matrix = tf.constant([[3, 2],\n",
    "                     [1, 3],\n",
    "                     [2, 4]])\n",
    "print(matrix)"
   ]
  },
  {
   "cell_type": "markdown",
   "metadata": {},
   "source": [
    "# Ways to define tensor-object\n",
    "\n",
    "There is another way to define tensorflow objects which is **tf.vatiable**, So, lets see what is the **difference** between tf.variable and tf.constant and where to use them\n",
    "\n",
    "1. tf.constant : Value assign to the tf.constant will not be changed after 1st assignment\n",
    "2. tf.variable : Valuse can be changes after assignments\n"
   ]
  },
  {
   "cell_type": "code",
   "execution_count": 4,
   "metadata": {},
   "outputs": [
    {
     "name": "stdout",
     "output_type": "stream",
     "text": [
      "Change able tensor:  <tf.Variable 'Variable:0' shape=(3,) dtype=int32, numpy=array([1, 2, 4], dtype=int32)> \n",
      "Un-changeable tesnor:  tf.Tensor([1 2 4], shape=(3,), dtype=int32)\n"
     ]
    }
   ],
   "source": [
    "\n",
    "# Defining Tensors\n",
    "changeable_tensor   = tf.Variable([1,2,4])\n",
    "unchangeable_tensor = tf.constant([1,2,4]) \n",
    "\n",
    "# Printing variables\n",
    "print(\"Change able tensor: \",changeable_tensor,\"\\nUn-changeable tesnor: \", unchangeable_tensor)\n"
   ]
  },
  {
   "cell_type": "code",
   "execution_count": 5,
   "metadata": {},
   "outputs": [
    {
     "name": "stdout",
     "output_type": "stream",
     "text": [
      "tf.Tensor(1, shape=(), dtype=int32)\n"
     ]
    },
    {
     "ename": "TypeError",
     "evalue": "'ResourceVariable' object does not support item assignment",
     "output_type": "error",
     "traceback": [
      "\u001b[0;31m---------------------------------------------------------------------------\u001b[0m",
      "\u001b[0;31mTypeError\u001b[0m                                 Traceback (most recent call last)",
      "\u001b[0;32m<ipython-input-5-336712882bec>\u001b[0m in \u001b[0;36m<module>\u001b[0;34m\u001b[0m\n\u001b[1;32m      4\u001b[0m \u001b[0;31m# So it is throwing an error emmm lets find the fix (Go to stack-overflow and see how to assign value to\u001b[0m\u001b[0;34m\u001b[0m\u001b[0;34m\u001b[0m\u001b[0;34m\u001b[0m\u001b[0m\n\u001b[1;32m      5\u001b[0m \u001b[0;31m# tf.variable)\u001b[0m\u001b[0;34m\u001b[0m\u001b[0;34m\u001b[0m\u001b[0;34m\u001b[0m\u001b[0m\n\u001b[0;32m----> 6\u001b[0;31m \u001b[0mchangeable_tensor\u001b[0m\u001b[0;34m[\u001b[0m\u001b[0;36m0\u001b[0m\u001b[0;34m]\u001b[0m \u001b[0;34m=\u001b[0m \u001b[0;36m2\u001b[0m\u001b[0;34m\u001b[0m\u001b[0;34m\u001b[0m\u001b[0m\n\u001b[0m\u001b[1;32m      7\u001b[0m \u001b[0mprint\u001b[0m\u001b[0;34m(\u001b[0m\u001b[0mchangeable_tensor\u001b[0m\u001b[0;34m[\u001b[0m\u001b[0;36m0\u001b[0m\u001b[0;34m]\u001b[0m\u001b[0;34m)\u001b[0m\u001b[0;34m\u001b[0m\u001b[0;34m\u001b[0m\u001b[0m\n",
      "\u001b[0;31mTypeError\u001b[0m: 'ResourceVariable' object does not support item assignment"
     ]
    }
   ],
   "source": [
    "# Lets try to change the value of changeable tensor\n",
    "print(changeable_tensor[0])\n",
    "\n",
    "# So it is throwing an error emmm lets find the fix (Go to stack-overflow and see how to assign value to\n",
    "# tf.variable)\n",
    "changeable_tensor[0] = 2\n",
    "print(changeable_tensor[0])"
   ]
  },
  {
   "cell_type": "code",
   "execution_count": 7,
   "metadata": {},
   "outputs": [
    {
     "name": "stdout",
     "output_type": "stream",
     "text": [
      "<tf.Variable 'Variable:0' shape=(3,) dtype=int32, numpy=array([4, 2, 4], dtype=int32)>\n",
      "tf.Tensor(1, shape=(), dtype=int32)\n"
     ]
    },
    {
     "ename": "TypeError",
     "evalue": "'tensorflow.python.framework.ops.EagerTensor' object does not support item assignment",
     "output_type": "error",
     "traceback": [
      "\u001b[0;31m---------------------------------------------------------------------------\u001b[0m",
      "\u001b[0;31mTypeError\u001b[0m                                 Traceback (most recent call last)",
      "\u001b[0;32m<ipython-input-7-4556e1c7a5bc>\u001b[0m in \u001b[0;36m<module>\u001b[0;34m\u001b[0m\n\u001b[1;32m      7\u001b[0m \u001b[0;34m\u001b[0m\u001b[0m\n\u001b[1;32m      8\u001b[0m \u001b[0mprint\u001b[0m\u001b[0;34m(\u001b[0m\u001b[0munchangeable_tensor\u001b[0m\u001b[0;34m[\u001b[0m\u001b[0;36m0\u001b[0m\u001b[0;34m]\u001b[0m\u001b[0;34m)\u001b[0m\u001b[0;34m\u001b[0m\u001b[0;34m\u001b[0m\u001b[0m\n\u001b[0;32m----> 9\u001b[0;31m \u001b[0munchangeable_tensor\u001b[0m\u001b[0;34m[\u001b[0m\u001b[0;36m0\u001b[0m\u001b[0;34m]\u001b[0m \u001b[0;34m=\u001b[0m \u001b[0;36m4\u001b[0m\u001b[0;34m\u001b[0m\u001b[0;34m\u001b[0m\u001b[0m\n\u001b[0m\u001b[1;32m     10\u001b[0m \u001b[0;34m\u001b[0m\u001b[0m\n\u001b[1;32m     11\u001b[0m \u001b[0;31m# Emmm! Same error arrived, But we know the fix emm lets try assign function\u001b[0m\u001b[0;34m\u001b[0m\u001b[0;34m\u001b[0m\u001b[0;34m\u001b[0m\u001b[0m\n",
      "\u001b[0;31mTypeError\u001b[0m: 'tensorflow.python.framework.ops.EagerTensor' object does not support item assignment"
     ]
    }
   ],
   "source": [
    "# So! I found a fucntion .assign with this fucntion we can change tha value of tf.variable\n",
    "\n",
    "changeable_tensor[0].assign(4)\n",
    "print(changeable_tensor)\n",
    "\n",
    "# Hmm! Seems that the value changed Now lets try to change the value of tf.constant\n",
    "\n",
    "print(unchangeable_tensor[0]) \n",
    "unchangeable_tensor[0] = 4\n",
    "\n",
    "# Emmm! Same error arrived, But we know the fix emm lets try assign function\n"
   ]
  },
  {
   "cell_type": "code",
   "execution_count": 8,
   "metadata": {},
   "outputs": [
    {
     "ename": "AttributeError",
     "evalue": "'tensorflow.python.framework.ops.EagerTensor' object has no attribute 'assign'",
     "output_type": "error",
     "traceback": [
      "\u001b[0;31m---------------------------------------------------------------------------\u001b[0m",
      "\u001b[0;31mAttributeError\u001b[0m                            Traceback (most recent call last)",
      "\u001b[0;32m<ipython-input-8-1b25396444e5>\u001b[0m in \u001b[0;36m<module>\u001b[0;34m\u001b[0m\n\u001b[1;32m      1\u001b[0m \u001b[0;31m# !OOps ! Hmm now we can see that we cannot change the value of tf.constant, This is the basic difference\u001b[0m\u001b[0;34m\u001b[0m\u001b[0;34m\u001b[0m\u001b[0;34m\u001b[0m\u001b[0m\n\u001b[1;32m      2\u001b[0m \u001b[0;31m# between tf.constant and tf.variable\u001b[0m\u001b[0;34m\u001b[0m\u001b[0;34m\u001b[0m\u001b[0;34m\u001b[0m\u001b[0m\n\u001b[0;32m----> 3\u001b[0;31m \u001b[0munchangeable_tensor\u001b[0m\u001b[0;34m[\u001b[0m\u001b[0;36m0\u001b[0m\u001b[0;34m]\u001b[0m\u001b[0;34m.\u001b[0m\u001b[0massign\u001b[0m\u001b[0;34m(\u001b[0m\u001b[0;36m4\u001b[0m\u001b[0;34m)\u001b[0m\u001b[0;34m\u001b[0m\u001b[0;34m\u001b[0m\u001b[0m\n\u001b[0m",
      "\u001b[0;32m~/anaconda3/envs/tensorflow2/lib/python3.7/site-packages/tensorflow/python/framework/ops.py\u001b[0m in \u001b[0;36m__getattr__\u001b[0;34m(self, name)\u001b[0m\n\u001b[1;32m    399\u001b[0m         \u001b[0;32mimport\u001b[0m \u001b[0mtensorflow\u001b[0m\u001b[0;34m.\u001b[0m\u001b[0mpython\u001b[0m\u001b[0;34m.\u001b[0m\u001b[0mops\u001b[0m\u001b[0;34m.\u001b[0m\u001b[0mnumpy_ops\u001b[0m\u001b[0;34m.\u001b[0m\u001b[0mnp_config\u001b[0m\u001b[0;34m\u001b[0m\u001b[0;34m\u001b[0m\u001b[0m\n\u001b[1;32m    400\u001b[0m         np_config.enable_numpy_behavior()\"\"\".format(type(self).__name__, name))\n\u001b[0;32m--> 401\u001b[0;31m     \u001b[0mself\u001b[0m\u001b[0;34m.\u001b[0m\u001b[0m__getattribute__\u001b[0m\u001b[0;34m(\u001b[0m\u001b[0mname\u001b[0m\u001b[0;34m)\u001b[0m\u001b[0;34m\u001b[0m\u001b[0;34m\u001b[0m\u001b[0m\n\u001b[0m\u001b[1;32m    402\u001b[0m \u001b[0;34m\u001b[0m\u001b[0m\n\u001b[1;32m    403\u001b[0m   \u001b[0;34m@\u001b[0m\u001b[0mstaticmethod\u001b[0m\u001b[0;34m\u001b[0m\u001b[0;34m\u001b[0m\u001b[0m\n",
      "\u001b[0;31mAttributeError\u001b[0m: 'tensorflow.python.framework.ops.EagerTensor' object has no attribute 'assign'"
     ]
    }
   ],
   "source": [
    "# !OOps ! Hmm now we can see that we cannot change the value of tf.constant, This is the basic difference\n",
    "# between tf.constant and tf.variable\n",
    "unchangeable_tensor[0].assign(4)"
   ]
  },
  {
   "cell_type": "markdown",
   "metadata": {},
   "source": [
    "## Creating Tensor of Random Array\n",
    "So! Why we are practicing this, Emm! When we need to train a neural network we have to initilize weights array with some random values, which will be updated further by the neural network by forward and backward propagation (we will discuss it later), In tensorflow we use different distributions to get random variables\n",
    "\n",
    "1. Normal Distribution, \n",
    "\n",
    "\n",
    "\n",
    "\n",
    "### Normal Distribution\n",
    "In probability theory, a normal (or Gaussian or Gauss or Laplace–Gauss) distribution is a type of continuous probability distribution for a real-valued random variable. The general form of its probability density function is\n",
    "\n",
    "\n",
    "\n",
    "\n",
    "#### properties of normal distributions?\n",
    "Normal distributions have key characteristics that are easy to spot in graphs:\n",
    "\n",
    "1. The mean, median and mode are exactly the same.\n",
    "2. The distribution is symmetric about the mean—half the values fall below the mean and half above the mean.\n",
    "3. The distribution can be described by two values: the mean and the standard deviation.\n",
    "\n",
    "![image.png](https://cdn.scribbr.com/wp-content/uploads/2020/10/normal-distribution.png)\n",
    "\n",
    "### Get more Insights about normal Distrubution from here\n",
    "\n",
    "https://www.scribbr.com/statistics/normal-distribution/\n",
    "\n",
    "\n",
    "## Try other distributions e.g (Uniform)"
   ]
  },
  {
   "cell_type": "code",
   "execution_count": 9,
   "metadata": {},
   "outputs": [
    {
     "name": "stdout",
     "output_type": "stream",
     "text": [
      "tf.Tensor(\n",
      "[[ 1.0019137   0.6735137 ]\n",
      " [ 0.06987712 -1.4077919 ]\n",
      " [ 1.0278524   0.27974114]], shape=(3, 2), dtype=float32)\n"
     ]
    }
   ],
   "source": [
    "random = tf.random.Generator.from_seed(4)\n",
    "\n",
    "# We are creating array of shape (3, 2) with normal distribution,\n",
    "random_array = random.normal(shape = (3,2))\n",
    "print(random_array)"
   ]
  },
  {
   "cell_type": "markdown",
   "metadata": {},
   "source": [
    "# Shuffle Tensors\n",
    "\n",
    "Why do we need to shuffle tensors. Emm! Let me explain. I am going to classify cats and dogs, and I have 10000 images,So! While reading our dataset may be first 5000 images are of cats and next 5000 images are of dogs and our model completely depends on the dataset, In first half of traning model only learn cats because first 5000 images are of cats and update its weights according to cat images and in next half model update all of its weights according to the dog images, that may slow your model training or leads you to the accuracy issues. So before feeding our data to the neural network we should always shuffle them.\n",
    "\n",
    "\n",
    "\n",
    "\n",
    "\n",
    "\n",
    "\n",
    "\n"
   ]
  },
  {
   "cell_type": "code",
   "execution_count": 10,
   "metadata": {},
   "outputs": [
    {
     "data": {
      "text/plain": [
       "<tf.Tensor: shape=(3, 2), dtype=float32, numpy=\n",
       "array([[ 0.06987712, -1.4077919 ],\n",
       "       [ 1.0278524 ,  0.27974114],\n",
       "       [ 1.0019137 ,  0.6735137 ]], dtype=float32)>"
      ]
     },
     "execution_count": 10,
     "metadata": {},
     "output_type": "execute_result"
    }
   ],
   "source": [
    "tf.random.set_seed(42)\n",
    "tf.random.shuffle(random_array)"
   ]
  },
  {
   "cell_type": "markdown",
   "metadata": {},
   "source": [
    "# Matrix Multiplication"
   ]
  },
  {
   "cell_type": "code",
   "execution_count": 5,
   "metadata": {},
   "outputs": [
    {
     "name": "stdout",
     "output_type": "stream",
     "text": [
      "(4, 4)\n",
      "(4, 3)\n",
      "***Result***\n",
      "(4, 3)\n",
      "tf.Tensor(\n",
      "[[34 38 42]\n",
      " [47 53 59]\n",
      " [49 56 63]\n",
      " [47 53 59]], shape=(4, 3), dtype=int32)\n"
     ]
    }
   ],
   "source": [
    "\n",
    "# Tensor 1 have shape (4,4)\n",
    "tensor1 = tf.constant([\n",
    "    [1,2,3,4],\n",
    "    [2,3,4,5],\n",
    "    [3,3,4,5],\n",
    "    [2,3,4,5]\n",
    "])\n",
    "\n",
    "\n",
    "#  Tensor2 shape is (4, 3)\n",
    "tensor2 = tf.constant([\n",
    "    [2,3,4],\n",
    "    [3,4,5],\n",
    "    [6,5,4],\n",
    "    [2,3,4]\n",
    "    \n",
    "])\n",
    "\n",
    "print(tensor1.shape)\n",
    "print(tensor2.shape)\n",
    "\n",
    "\n",
    "# SO According to the matrix multiplication formule we got result of matrix (4,3)\n",
    "\n",
    "# (a x b) @ (c x d) --> (a x d)\n",
    "print(\"***Result***\")\n",
    "result = tf.matmul(tensor1 , tensor2)\n",
    "print(result.shape)\n",
    "print(result)"
   ]
  },
  {
   "cell_type": "markdown",
   "metadata": {},
   "source": [
    "# Element wise Multiplications"
   ]
  },
  {
   "cell_type": "code",
   "execution_count": 17,
   "metadata": {},
   "outputs": [
    {
     "name": "stdout",
     "output_type": "stream",
     "text": [
      "tf.Tensor([ 2  8 18], shape=(3,), dtype=int32)\n"
     ]
    }
   ],
   "source": [
    "tensor = tf.constant([1,2,3])\n",
    "tensor1 = tf.constant([2,4,6])\n",
    "print(tensor * tensor1)"
   ]
  },
  {
   "cell_type": "code",
   "execution_count": null,
   "metadata": {},
   "outputs": [],
   "source": []
  }
 ],
 "metadata": {
  "kernelspec": {
   "display_name": "tensorflow2",
   "language": "python",
   "name": "tensorflow2"
  },
  "language_info": {
   "codemirror_mode": {
    "name": "ipython",
    "version": 3
   },
   "file_extension": ".py",
   "mimetype": "text/x-python",
   "name": "python",
   "nbconvert_exporter": "python",
   "pygments_lexer": "ipython3",
   "version": "3.7.10"
  }
 },
 "nbformat": 4,
 "nbformat_minor": 4
}
