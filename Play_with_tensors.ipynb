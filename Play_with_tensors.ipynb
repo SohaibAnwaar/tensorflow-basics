{
 "cells": [
  {
   "cell_type": "markdown",
   "metadata": {},
   "source": [
    "# Tensors Basics\n",
    "Libraries used to run this notebook\n",
    "\n",
    "    1. Tensorflow==2.5 \n",
    "    2. Python==3.6\n",
    "\n",
    "\n",
    "## Intro\n",
    "This notebook includes some basic functionality of tensors which really helps a data-scientist/machine-learning engineer to build a model. Special thing about this notebook is, it is made for begineers. Most of my fresh grad friends want to be a data-scientist/machine learning engineer, as I am also in learning phase so I decided to write down things, notes or things which helps me and my juniors to climb ladder of success. So lets gets started\n",
    "\n",
    "\n"
   ]
  },
  {
   "cell_type": "code",
   "execution_count": null,
   "metadata": {},
   "outputs": [],
   "source": []
  }
 ],
 "metadata": {
  "kernelspec": {
   "display_name": "Python 3",
   "language": "python",
   "name": "python3"
  },
  "language_info": {
   "codemirror_mode": {
    "name": "ipython",
    "version": 3
   },
   "file_extension": ".py",
   "mimetype": "text/x-python",
   "name": "python",
   "nbconvert_exporter": "python",
   "pygments_lexer": "ipython3",
   "version": "3.7.3"
  }
 },
 "nbformat": 4,
 "nbformat_minor": 2
}
