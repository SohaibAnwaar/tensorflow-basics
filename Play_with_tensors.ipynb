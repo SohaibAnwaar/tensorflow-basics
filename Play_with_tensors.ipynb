{
 "cells": [
  {
   "cell_type": "markdown",
   "metadata": {},
   "source": [
    "# Tensors Basics\n",
    "Libraries used to run this notebook\n",
    "\n",
    "    1. Tensorflow==2.5 \n",
    "    2. Python==3.6\n",
    "\n",
    "\n",
    "## Introduction\n",
    "This notebook includes some basic functionality of tensors which really helps a data-scientist/machine-learning engineer to build a model. Special thing about this notebook is, it is made for begineers. Most of my fresh grad friends want to be a data-scientist/machine learning engineer, as I am also in learning phase so I decided to write down things, notes or things which helps me and my juniors to climb ladder of success. So lets gets started\n",
    "\n",
    "\n",
    "## Setup \n",
    "\n",
    "Follow setup.md file to setup your environment\n",
    "\n",
    "[Setup Readme](./setup.md)\n"
   ]
  },
  {
   "cell_type": "code",
   "execution_count": 2,
   "metadata": {},
   "outputs": [
    {
     "name": "stdout",
     "output_type": "stream",
     "text": [
      "2.2.0\n"
     ]
    }
   ],
   "source": [
    "\n",
    "# Getting tensorflow version\n",
    "import tensorflow as tf\n",
    "print(tf.__version__)"
   ]
  },
  {
   "cell_type": "markdown",
   "metadata": {},
   "source": [
    "# Some basic Confusions\n",
    "\n",
    "\n",
    "\n",
    "### 1. What are tensors?\n",
    "Tensors are just numerical representation of the information. \n",
    "\n",
    "e.g \n",
    "1. [[1,2,4,5],[2,3,4,5]]\n",
    "2. [[1,2,3,4,5]]\n",
    "3. [[2]]\n",
    "\n",
    "\n",
    "### 2. Difference between tensors and arrays\n",
    "An array is a grid of values that contains raw data and we use it to locate and interpret elements in the raw data. Whereas a tensor is a multidimensional array. Generally, we use NumPy for working with an array and TensorFlow for working with a tensor"
   ]
  },
  {
   "cell_type": "markdown",
   "metadata": {},
   "source": [
    "## Scalars and Vectors\n",
    "A scalar is an element of a field which is used to define a vector space. A quantity described by multiple scalars, such as having both direction and magnitude, is called a vector.[1]"
   ]
  },
  {
   "cell_type": "code",
   "execution_count": 16,
   "metadata": {},
   "outputs": [
    {
     "name": "stdout",
     "output_type": "stream",
     "text": [
      "tf.Tensor(3, shape=(), dtype=int32)\n",
      "tf.Tensor([3 2 3], shape=(3,), dtype=int32)\n"
     ]
    }
   ],
   "source": [
    "# Constant\n",
    "    # Create a constant tensor like object \n",
    "scalar = tf.constant(3)\n",
    "print(scalar)\n",
    "\n",
    "vector = tf.constant([3,2,3])\n",
    "print(vector)"
   ]
  },
  {
   "cell_type": "markdown",
   "metadata": {},
   "source": [
    "## Matrix\n",
    "In mathematics, a matrix (plural matrices) is a rectangular array or table of numbers, symbols, or expressions, arranged in rows and columns.[1][2] For example, the dimension of the matrix below is 2 × 3 (read \"two by three\"), because there are two rows and three columns:\n",
    "\n",
    "1. Matrix 1\n",
    "\n",
    "\\begin{bmatrix}1&9&-13\\\\20&5&-6\\end{bmatrix}\n",
    "\n",
    "2. Matrix 2\n",
    "\n",
    "\\begin{bmatrix}1&9&-13\\\\20&5&-6\\end{bmatrix}\n",
    "\n"
   ]
  },
  {
   "cell_type": "code",
   "execution_count": 14,
   "metadata": {},
   "outputs": [
    {
     "name": "stdout",
     "output_type": "stream",
     "text": [
      "tf.Tensor(\n",
      "[[3 2]\n",
      " [1 3]\n",
      " [2 4]], shape=(3, 2), dtype=int32)\n"
     ]
    }
   ],
   "source": [
    "matrix = tf.constant([[3, 2],\n",
    "                     [1, 3],\n",
    "                     [2, 4]])\n",
    "print(matrix)"
   ]
  },
  {
   "cell_type": "markdown",
   "metadata": {},
   "source": [
    "# Ways to define tensor-object\n",
    "\n",
    "There is another way to define tensorflow objects which is **tf.vatiable**, So, lets see what is the **difference** between tf.variable and tf.constant and where to use them\n",
    "\n",
    "1. tf.constant : Value assign to the tf.constant will not be changed after 1st assignment\n",
    "2. tf.variable : Valuse can be changes after assignments\n"
   ]
  },
  {
   "cell_type": "code",
   "execution_count": 23,
   "metadata": {},
   "outputs": [
    {
     "name": "stdout",
     "output_type": "stream",
     "text": [
      "Change able tensor:  <tf.Variable 'Variable:0' shape=(3,) dtype=int32, numpy=array([1, 2, 4], dtype=int32)> \n",
      "Un-changeable tesnor:  tf.Tensor([1 2 4], shape=(3,), dtype=int32)\n"
     ]
    }
   ],
   "source": [
    "\n",
    "# Defining Tensors\n",
    "changeable_tensor   = tf.Variable([1,2,4])\n",
    "unchangeable_tensor = tf.constant([1,2,4]) \n",
    "\n",
    "# Printing variables\n",
    "print(\"Change able tensor: \",changeable_tensor,\"\\nUn-changeable tesnor: \", unchangeable_tensor)\n"
   ]
  },
  {
   "cell_type": "code",
   "execution_count": 25,
   "metadata": {},
   "outputs": [
    {
     "name": "stdout",
     "output_type": "stream",
     "text": [
      "tf.Tensor(1, shape=(), dtype=int32)\n"
     ]
    },
    {
     "ename": "TypeError",
     "evalue": "'ResourceVariable' object does not support item assignment",
     "output_type": "error",
     "traceback": [
      "\u001b[0;31m---------------------------------------------------------------------------\u001b[0m",
      "\u001b[0;31mTypeError\u001b[0m                                 Traceback (most recent call last)",
      "\u001b[0;32m<ipython-input-25-de903f68f9a6>\u001b[0m in \u001b[0;36m<module>\u001b[0;34m\u001b[0m\n\u001b[1;32m      1\u001b[0m \u001b[0;31m# Lets try to change the value of changeable tensor\u001b[0m\u001b[0;34m\u001b[0m\u001b[0;34m\u001b[0m\u001b[0;34m\u001b[0m\u001b[0m\n\u001b[1;32m      2\u001b[0m \u001b[0mprint\u001b[0m\u001b[0;34m(\u001b[0m\u001b[0mchangeable_tensor\u001b[0m\u001b[0;34m[\u001b[0m\u001b[0;36m0\u001b[0m\u001b[0;34m]\u001b[0m\u001b[0;34m)\u001b[0m\u001b[0;34m\u001b[0m\u001b[0;34m\u001b[0m\u001b[0m\n\u001b[0;32m----> 3\u001b[0;31m \u001b[0mchangeable_tensor\u001b[0m\u001b[0;34m[\u001b[0m\u001b[0;36m0\u001b[0m\u001b[0;34m]\u001b[0m \u001b[0;34m=\u001b[0m \u001b[0;36m2\u001b[0m\u001b[0;34m\u001b[0m\u001b[0;34m\u001b[0m\u001b[0m\n\u001b[0m\u001b[1;32m      4\u001b[0m \u001b[0mprint\u001b[0m\u001b[0;34m(\u001b[0m\u001b[0mchangeable_tensor\u001b[0m\u001b[0;34m[\u001b[0m\u001b[0;36m0\u001b[0m\u001b[0;34m]\u001b[0m\u001b[0;34m)\u001b[0m\u001b[0;34m\u001b[0m\u001b[0;34m\u001b[0m\u001b[0m\n",
      "\u001b[0;31mTypeError\u001b[0m: 'ResourceVariable' object does not support item assignment"
     ]
    }
   ],
   "source": [
    "# Lets try to change the value of changeable tensor\n",
    "print(changeable_tensor[0])\n",
    "\n",
    "# So it is throwing an error emmm lets find the fix (Go to stack-overflow and see how to assign value to\n",
    "# tf.variable)\n",
    "changeable_tensor[0] = 2\n",
    "print(changeable_tensor[0])"
   ]
  },
  {
   "cell_type": "code",
   "execution_count": 32,
   "metadata": {},
   "outputs": [
    {
     "name": "stdout",
     "output_type": "stream",
     "text": [
      "<tf.Variable 'Variable:0' shape=(3,) dtype=int32, numpy=array([4, 2, 4], dtype=int32)>\n",
      "tf.Tensor(1, shape=(), dtype=int32)\n"
     ]
    },
    {
     "ename": "TypeError",
     "evalue": "'tensorflow.python.framework.ops.EagerTensor' object does not support item assignment",
     "output_type": "error",
     "traceback": [
      "\u001b[0;31m---------------------------------------------------------------------------\u001b[0m",
      "\u001b[0;31mTypeError\u001b[0m                                 Traceback (most recent call last)",
      "\u001b[0;32m<ipython-input-32-4556e1c7a5bc>\u001b[0m in \u001b[0;36m<module>\u001b[0;34m\u001b[0m\n\u001b[1;32m      7\u001b[0m \u001b[0;34m\u001b[0m\u001b[0m\n\u001b[1;32m      8\u001b[0m \u001b[0mprint\u001b[0m\u001b[0;34m(\u001b[0m\u001b[0munchangeable_tensor\u001b[0m\u001b[0;34m[\u001b[0m\u001b[0;36m0\u001b[0m\u001b[0;34m]\u001b[0m\u001b[0;34m)\u001b[0m\u001b[0;34m\u001b[0m\u001b[0;34m\u001b[0m\u001b[0m\n\u001b[0;32m----> 9\u001b[0;31m \u001b[0munchangeable_tensor\u001b[0m\u001b[0;34m[\u001b[0m\u001b[0;36m0\u001b[0m\u001b[0;34m]\u001b[0m \u001b[0;34m=\u001b[0m \u001b[0;36m4\u001b[0m\u001b[0;34m\u001b[0m\u001b[0;34m\u001b[0m\u001b[0m\n\u001b[0m\u001b[1;32m     10\u001b[0m \u001b[0;34m\u001b[0m\u001b[0m\n\u001b[1;32m     11\u001b[0m \u001b[0;31m# Emmm! Same error arrived, But we know the fix emm lets try assign function\u001b[0m\u001b[0;34m\u001b[0m\u001b[0;34m\u001b[0m\u001b[0;34m\u001b[0m\u001b[0m\n",
      "\u001b[0;31mTypeError\u001b[0m: 'tensorflow.python.framework.ops.EagerTensor' object does not support item assignment"
     ]
    }
   ],
   "source": [
    "# So! I found a fucntion .assign with this fucntion we can change tha value of tf.variable\n",
    "\n",
    "changeable_tensor[0].assign(4)\n",
    "print(changeable_tensor)\n",
    "\n",
    "# Hmm! Seems that the value changed Now lets try to change the value of tf.constant\n",
    "\n",
    "print(unchangeable_tensor[0]) \n",
    "unchangeable_tensor[0] = 4\n",
    "\n",
    "# Emmm! Same error arrived, But we know the fix emm lets try assign function\n"
   ]
  },
  {
   "cell_type": "code",
   "execution_count": 34,
   "metadata": {},
   "outputs": [
    {
     "ename": "AttributeError",
     "evalue": "'tensorflow.python.framework.ops.EagerTensor' object has no attribute 'assign'",
     "output_type": "error",
     "traceback": [
      "\u001b[0;31m---------------------------------------------------------------------------\u001b[0m",
      "\u001b[0;31mAttributeError\u001b[0m                            Traceback (most recent call last)",
      "\u001b[0;32m<ipython-input-34-1b25396444e5>\u001b[0m in \u001b[0;36m<module>\u001b[0;34m\u001b[0m\n\u001b[1;32m      1\u001b[0m \u001b[0;31m# !OOps ! Hmm now we can see that we cannot change the value of tf.constant, This is the basic difference\u001b[0m\u001b[0;34m\u001b[0m\u001b[0;34m\u001b[0m\u001b[0;34m\u001b[0m\u001b[0m\n\u001b[1;32m      2\u001b[0m \u001b[0;31m# between tf.constant and tf.variable\u001b[0m\u001b[0;34m\u001b[0m\u001b[0;34m\u001b[0m\u001b[0;34m\u001b[0m\u001b[0m\n\u001b[0;32m----> 3\u001b[0;31m \u001b[0munchangeable_tensor\u001b[0m\u001b[0;34m[\u001b[0m\u001b[0;36m0\u001b[0m\u001b[0;34m]\u001b[0m\u001b[0;34m.\u001b[0m\u001b[0massign\u001b[0m\u001b[0;34m(\u001b[0m\u001b[0;36m4\u001b[0m\u001b[0;34m)\u001b[0m\u001b[0;34m\u001b[0m\u001b[0;34m\u001b[0m\u001b[0m\n\u001b[0m",
      "\u001b[0;31mAttributeError\u001b[0m: 'tensorflow.python.framework.ops.EagerTensor' object has no attribute 'assign'"
     ]
    }
   ],
   "source": [
    "# !OOps ! Hmm now we can see that we cannot change the value of tf.constant, This is the basic difference\n",
    "# between tf.constant and tf.variable\n",
    "unchangeable_tensor[0].assign(4)"
   ]
  },
  {
   "attachments": {},
   "cell_type": "markdown",
   "metadata": {},
   "source": [
    "## Creating Tensor of Random Array\n",
    "So! Why we are practicing this, Emm! When we need to train a neural network we have to initilize weights array with some random values, which will be updated further by the neural network by forward and backward propagation (we will discuss it later), In tensorflow we use different distributions to get random variables\n",
    "\n",
    "1. Normal Distribution, \n",
    "\n",
    "\n",
    "\n",
    "\n",
    "### Normal Distribution\n",
    "In probability theory, a normal (or Gaussian or Gauss or Laplace–Gauss) distribution is a type of continuous probability distribution for a real-valued random variable. The general form of its probability density function is\n",
    "\n",
    "\n",
    "\n",
    "\n",
    "#### properties of normal distributions?\n",
    "Normal distributions have key characteristics that are easy to spot in graphs:\n",
    "\n",
    "1. The mean, median and mode are exactly the same.\n",
    "2. The distribution is symmetric about the mean—half the values fall below the mean and half above the mean.\n",
    "3. The distribution can be described by two values: the mean and the standard deviation.\n",
    "\n",
    "![image.png](https://cdn.scribbr.com/wp-content/uploads/2020/10/normal-distribution.png)\n",
    "\n",
    "### Get more Insights about normal Distrubution from here\n",
    "\n",
    "https://www.scribbr.com/statistics/normal-distribution/\n",
    "\n",
    "\n",
    "## Try other distributions e.g (Uniform)"
   ]
  },
  {
   "cell_type": "code",
   "execution_count": 57,
   "metadata": {},
   "outputs": [
    {
     "name": "stdout",
     "output_type": "stream",
     "text": [
      "tf.Tensor(\n",
      "[[ 1.0019137   0.6735137 ]\n",
      " [ 0.06987712 -1.4077919 ]\n",
      " [ 1.0278524   0.27974114]], shape=(3, 2), dtype=float32)\n"
     ]
    }
   ],
   "source": [
    "random = tf.random.Generator.from_seed(4)\n",
    "\n",
    "# We are creating array of shape (3, 2) with normal distribution,\n",
    "random_array = random.normal(shape = (3,2))\n",
    "print(random_array)"
   ]
  },
  {
   "cell_type": "markdown",
   "metadata": {},
   "source": [
    "# Shuffle Tensors\n",
    "\n",
    "Why do we need to shuffle tensors. Emm! Let me explain. I am going to classify cats and dogs, and I have 10000 images,So! While reading our dataset may be first 5000 images are of cats and next 5000 images are of dogs and our model completely depends on the dataset, In first half of traning model only learn cats because first 5000 images are of cats and update its weights according to cat images and in next half model update all of its weights according to the dog images, that may slow your model training or leads you to the accuracy issues. So before feeding our data to the neural network we should always shuffle them.\n",
    "\n",
    "\n",
    "\n",
    "\n",
    "\n",
    "\n",
    "\n",
    "\n"
   ]
  },
  {
   "cell_type": "code",
   "execution_count": 75,
   "metadata": {},
   "outputs": [
    {
     "data": {
      "text/plain": [
       "<tf.Tensor: shape=(3, 2), dtype=float32, numpy=\n",
       "array([[ 0.06987712, -1.4077919 ],\n",
       "       [ 1.0278524 ,  0.27974114],\n",
       "       [ 1.0019137 ,  0.6735137 ]], dtype=float32)>"
      ]
     },
     "execution_count": 75,
     "metadata": {},
     "output_type": "execute_result"
    }
   ],
   "source": [
    "tf.random.set_seed(42)\n",
    "tf.random.shuffle(random_array)"
   ]
  },
  {
   "cell_type": "code",
   "execution_count": null,
   "metadata": {},
   "outputs": [],
   "source": []
  }
 ],
 "metadata": {
  "kernelspec": {
   "display_name": "tf_",
   "language": "python",
   "name": "tf_"
  },
  "language_info": {
   "codemirror_mode": {
    "name": "ipython",
    "version": 3
   },
   "file_extension": ".py",
   "mimetype": "text/x-python",
   "name": "python",
   "nbconvert_exporter": "python",
   "pygments_lexer": "ipython3",
   "version": "3.6.13"
  }
 },
 "nbformat": 4,
 "nbformat_minor": 2
}
